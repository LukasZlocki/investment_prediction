{
 "cells": [
  {
   "cell_type": "code",
   "execution_count": null,
   "id": "4d1c2adc-3647-475d-85a2-7567d7961aa4",
   "metadata": {},
   "outputs": [],
   "source": [
    "import pandas as pd"
   ]
  },
  {
   "cell_type": "code",
   "execution_count": null,
   "id": "bd7c4986-8c12-448e-a130-decf1ba65282",
   "metadata": {},
   "outputs": [],
   "source": [
    "# Read data from given file name\n",
    "def read_datasource(filename):\n",
    "    src_data = pd.read_csv(spx_file)\n",
    "    return src_data \n",
    "    \n",
    "# Merging datasets\n",
    "def data_merging(dt1, dt2):\n",
    "    # Date conversion to common date format\n",
    "    dt1['Data'] = pd.to_datetime(dt1['Data'])\n",
    "    dt2['Date'] = pd.to_datetime(dt2['Date'])\n",
    "    merged_dataset = pd.merge(dt1, dt2, left_on='Data', right_on='Date', how='inner')"
   ]
  },
  {
   "cell_type": "code",
   "execution_count": null,
   "id": "c1a4a711-8c6c-43ce-b112-4c487b771359",
   "metadata": {},
   "outputs": [],
   "source": [
    "# Files with data sources:\n",
    "file_spx500 = 'spx500.csv'\n",
    "file_yield_curve = 'yield-curve-rates.csv'"
   ]
  },
  {
   "cell_type": "code",
   "execution_count": null,
   "id": "8fc53699-479c-436e-83df-52d4ea384f42",
   "metadata": {},
   "outputs": [],
   "source": [
    "# loading files\n",
    "dt_spx500 = read_datasource(file_spx500)\n",
    "dt_yieldcrv = read_datasource(file_yield_curve)"
   ]
  },
  {
   "cell_type": "code",
   "execution_count": null,
   "id": "2e7798a2-1362-4500-a883-dad9419d8051",
   "metadata": {},
   "outputs": [],
   "source": []
  }
 ],
 "metadata": {
  "kernelspec": {
   "display_name": "Python 3 (ipykernel)",
   "language": "python",
   "name": "python3"
  },
  "language_info": {
   "codemirror_mode": {
    "name": "ipython",
    "version": 3
   },
   "file_extension": ".py",
   "mimetype": "text/x-python",
   "name": "python",
   "nbconvert_exporter": "python",
   "pygments_lexer": "ipython3",
   "version": "3.12.3"
  }
 },
 "nbformat": 4,
 "nbformat_minor": 5
}
