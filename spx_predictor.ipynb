{
 "cells": [
  {
   "cell_type": "code",
   "execution_count": 19,
   "id": "4d1c2adc-3647-475d-85a2-7567d7961aa4",
   "metadata": {},
   "outputs": [],
   "source": [
    "import pandas as pd"
   ]
  },
  {
   "cell_type": "code",
   "execution_count": 20,
   "id": "bd7c4986-8c12-448e-a130-decf1ba65282",
   "metadata": {},
   "outputs": [],
   "source": [
    "# Read data from given file name\n",
    "def read_datasource(filename):\n",
    "    src_data = pd.read_csv(filename)\n",
    "    return src_data \n",
    "    \n",
    "# Merging datasets\n",
    "def data_merging(dt1, dt2):\n",
    "    # Date conversion to common date format\n",
    "    dt1['Data'] = pd.to_datetime(dt1['Data'])  # Assuming 'YYYY-MM-DD' format\n",
    "    dt2['Date'] = pd.to_datetime(dt2['Date'], format='%m/%d/%y')  # Explicit format\n",
    "    \n",
    "    # Merge datasets on date\n",
    "    merged_dataset = pd.merge(dt1, dt2, left_on='Data', right_on='Date', how='inner')\n",
    "\n",
    "    return merged_dataset\n",
    "    "
   ]
  },
  {
   "cell_type": "code",
   "execution_count": 21,
   "id": "c1a4a711-8c6c-43ce-b112-4c487b771359",
   "metadata": {},
   "outputs": [],
   "source": [
    "# Files with data sources:\n",
    "file_spx500 = 'spx500.csv'\n",
    "file_yield_curve = 'yield-curve-rates.csv'"
   ]
  },
  {
   "cell_type": "code",
   "execution_count": 22,
   "id": "8fc53699-479c-436e-83df-52d4ea384f42",
   "metadata": {},
   "outputs": [],
   "source": [
    "# loading files\n",
    "dt_spx500 = read_datasource(file_spx500)\n",
    "dt_yieldcrv = read_datasource(file_yield_curve)"
   ]
  },
  {
   "cell_type": "code",
   "execution_count": 23,
   "id": "2e7798a2-1362-4500-a883-dad9419d8051",
   "metadata": {},
   "outputs": [
    {
     "name": "stdout",
     "output_type": "stream",
     "text": [
      "SPX500 Data:\n",
      "         Data  Otwarcie  Najwyzszy  Najnizszy  Zamkniecie      Wolumen\n",
      "0  1990-01-02    353.40     359.69     351.98      359.69   90038889.0\n",
      "1  1990-01-03    359.69     360.59     357.89      358.76  106850000.0\n",
      "2  1990-01-04    358.76     358.76     352.89      355.67   98333333.0\n",
      "3  1990-01-05    355.67     355.67     351.35      352.20   88072222.0\n",
      "4  1990-01-08    352.20     354.24     350.54      353.79   77838889.0\n",
      "\n",
      "Yield Curve Data:\n",
      "       Date  1 Mo  2 Mo  3 Mo  4 Mo  6 Mo  1 Yr  2 Yr  3 Yr  5 Yr  7 Yr  \\\n",
      "0  12/31/24  4.40  4.39  4.37  4.32  4.24  4.16  4.25  4.27  4.38  4.48   \n",
      "1  12/30/24  4.43  4.42  4.37  4.33  4.25  4.17  4.24  4.29  4.37  4.46   \n",
      "2  12/27/24  4.44  4.43  4.31  4.35  4.29  4.20  4.31  4.36  4.45  4.53   \n",
      "3  12/26/24  4.45  4.45  4.35  4.37  4.31  4.23  4.30  4.35  4.42  4.49   \n",
      "4  12/24/24  4.44  4.44  4.40  4.38  4.30  4.24  4.29  4.36  4.43  4.52   \n",
      "\n",
      "   10 Yr  20 Yr  30 Yr  \n",
      "0   4.58   4.86   4.78  \n",
      "1   4.55   4.84   4.77  \n",
      "2   4.62   4.89   4.82  \n",
      "3   4.58   4.83   4.76  \n",
      "4   4.59   4.84   4.76  \n"
     ]
    }
   ],
   "source": [
    "# Display the first 3 rows\n",
    "print(\"SPX500 Data:\")\n",
    "print(dt_spx500.head(5))\n",
    "\n",
    "print(\"\\nYield Curve Data:\")\n",
    "print(dt_yieldcrv.head(5))"
   ]
  },
  {
   "cell_type": "code",
   "execution_count": 24,
   "id": "33b5972f-48ed-4544-abe0-fef8ed0f596d",
   "metadata": {},
   "outputs": [],
   "source": [
    "# merging datasets\n",
    "ds_merged = data_merging(dt_spx500, dt_yieldcrv)"
   ]
  },
  {
   "cell_type": "code",
   "execution_count": 25,
   "id": "6af56a31-2952-4c7b-8068-9b1735d76434",
   "metadata": {},
   "outputs": [
    {
     "name": "stdout",
     "output_type": "stream",
     "text": [
      "\n",
      "Merged dataset:\n",
      "        Data  Otwarcie  Najwyzszy  Najnizszy  Zamkniecie      Wolumen  \\\n",
      "0 1990-01-02    353.40     359.69     351.98      359.69   90038889.0   \n",
      "1 1990-01-03    359.69     360.59     357.89      358.76  106850000.0   \n",
      "2 1990-01-04    358.76     358.76     352.89      355.67   98333333.0   \n",
      "3 1990-01-05    355.67     355.67     351.35      352.20   88072222.0   \n",
      "4 1990-01-08    352.20     354.24     350.54      353.79   77838889.0   \n",
      "5 1990-01-09    353.83     354.17     349.61      349.62   86227778.0   \n",
      "6 1990-01-10    349.62     349.62     344.32      347.31   97772222.0   \n",
      "7 1990-01-11    347.31     350.14     347.31      348.53   85772222.0   \n",
      "8 1990-01-12    348.53     348.53     339.49      339.93  102155556.0   \n",
      "9 1990-01-16    337.00     340.75     333.37      340.75  103372222.0   \n",
      "\n",
      "        Date  1 Mo  2 Mo  3 Mo  4 Mo  6 Mo  1 Yr  2 Yr  3 Yr  5 Yr  7 Yr  \\\n",
      "0 1990-01-02   NaN   NaN  7.83   NaN  7.89  7.81  7.87  7.90  7.87  7.98   \n",
      "1 1990-01-03   NaN   NaN  7.89   NaN  7.94  7.85  7.94  7.96  7.92  8.04   \n",
      "2 1990-01-04   NaN   NaN  7.84   NaN  7.90  7.82  7.92  7.93  7.91  8.02   \n",
      "3 1990-01-05   NaN   NaN  7.79   NaN  7.85  7.79  7.90  7.94  7.92  8.03   \n",
      "4 1990-01-08   NaN   NaN  7.79   NaN  7.88  7.81  7.90  7.95  7.92  8.05   \n",
      "5 1990-01-09   NaN   NaN  7.80   NaN  7.82  7.78  7.91  7.94  7.92  8.05   \n",
      "6 1990-01-10   NaN   NaN  7.75   NaN  7.78  7.77  7.91  7.95  7.92  8.00   \n",
      "7 1990-01-11   NaN   NaN  7.80   NaN  7.80  7.77  7.91  7.95  7.94  8.01   \n",
      "8 1990-01-12   NaN   NaN  7.74   NaN  7.81  7.76  7.93  7.98  7.99  8.07   \n",
      "9 1990-01-16   NaN   NaN  7.89   NaN  7.99  7.92  8.10  8.13  8.11  8.18   \n",
      "\n",
      "   10 Yr  20 Yr  30 Yr  \n",
      "0   7.94    NaN   8.00  \n",
      "1   7.99    NaN   8.04  \n",
      "2   7.98    NaN   8.04  \n",
      "3   7.99    NaN   8.06  \n",
      "4   8.02    NaN   8.09  \n",
      "5   8.02    NaN   8.10  \n",
      "6   8.03    NaN   8.11  \n",
      "7   8.04    NaN   8.11  \n",
      "8   8.10    NaN   8.17  \n",
      "9   8.20    NaN   8.25  \n"
     ]
    }
   ],
   "source": [
    "print(\"\\nMerged dataset:\")\n",
    "print(ds_merged.head(10))"
   ]
  },
  {
   "cell_type": "code",
   "execution_count": 26,
   "id": "38b46e2a-eaa1-4bc3-a5c0-ee517f782c29",
   "metadata": {},
   "outputs": [],
   "source": [
    "# Saving merged data to output file\n",
    "ds_merged.to_csv('merged_data.csv', index=False)"
   ]
  },
  {
   "cell_type": "code",
   "execution_count": null,
   "id": "46e4e01f-70c1-4974-9cd2-8cc7159da6de",
   "metadata": {},
   "outputs": [],
   "source": []
  }
 ],
 "metadata": {
  "kernelspec": {
   "display_name": "Python 3 (ipykernel)",
   "language": "python",
   "name": "python3"
  },
  "language_info": {
   "codemirror_mode": {
    "name": "ipython",
    "version": 3
   },
   "file_extension": ".py",
   "mimetype": "text/x-python",
   "name": "python",
   "nbconvert_exporter": "python",
   "pygments_lexer": "ipython3",
   "version": "3.12.3"
  }
 },
 "nbformat": 4,
 "nbformat_minor": 5
}
