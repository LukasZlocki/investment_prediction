{
 "cells": [
  {
   "cell_type": "code",
   "execution_count": 1,
   "id": "4d1c2adc-3647-475d-85a2-7567d7961aa4",
   "metadata": {},
   "outputs": [],
   "source": [
    "import pandas as pd"
   ]
  },
  {
   "cell_type": "code",
   "execution_count": 2,
   "id": "bd7c4986-8c12-448e-a130-decf1ba65282",
   "metadata": {},
   "outputs": [],
   "source": [
    "# Read data from given file name\n",
    "def read_datasource(filename):\n",
    "    src_data = pd.read_csv(filename)\n",
    "    return src_data \n",
    "    \n",
    "# Merging datasets\n",
    "def data_merging(dt1, dt2):\n",
    "    # Date conversion to common date format\n",
    "    dt1['Data'] = pd.to_datetime(dt1['Data'])  # Assuming 'YYYY-MM-DD' format\n",
    "    dt2['Date'] = pd.to_datetime(dt2['Date'], format='%m/%d/%y')  # Explicit format\n",
    "    \n",
    "    # Merge datasets on date\n",
    "    merged_dataset = pd.merge(dt1, dt2, left_on='Data', right_on='Date', how='inner')\n",
    "\n",
    "    return merged_dataset\n",
    "    "
   ]
  },
  {
   "cell_type": "code",
   "execution_count": 3,
   "id": "c1a4a711-8c6c-43ce-b112-4c487b771359",
   "metadata": {},
   "outputs": [],
   "source": [
    "# Files with data sources:\n",
    "file_spx500 = 'spx500.csv'\n",
    "file_yield_curve = 'yield-curve-rates.csv'"
   ]
  },
  {
   "cell_type": "code",
   "execution_count": 4,
   "id": "8fc53699-479c-436e-83df-52d4ea384f42",
   "metadata": {},
   "outputs": [],
   "source": [
    "# loading files\n",
    "dt_spx500 = read_datasource(file_spx500)\n",
    "dt_yieldcrv = read_datasource(file_yield_curve)"
   ]
  },
  {
   "cell_type": "code",
   "execution_count": 5,
   "id": "2e7798a2-1362-4500-a883-dad9419d8051",
   "metadata": {},
   "outputs": [
    {
     "name": "stdout",
     "output_type": "stream",
     "text": [
      "SPX500 Data:\n",
      "         Data  Otwarcie  Najwyzszy  Najnizszy  Zamkniecie      Wolumen\n",
      "0  1990-01-02    353.40     359.69     351.98      359.69   90038889.0\n",
      "1  1990-01-03    359.69     360.59     357.89      358.76  106850000.0\n",
      "2  1990-01-04    358.76     358.76     352.89      355.67   98333333.0\n",
      "3  1990-01-05    355.67     355.67     351.35      352.20   88072222.0\n",
      "4  1990-01-08    352.20     354.24     350.54      353.79   77838889.0\n",
      "\n",
      "Yield Curve Data:\n",
      "       Date  1 Mo  2 Mo  3 Mo  4 Mo  6 Mo  1 Yr  2 Yr  3 Yr  5 Yr  7 Yr  \\\n",
      "0  12/31/24  4.40  4.39  4.37  4.32  4.24  4.16  4.25  4.27  4.38  4.48   \n",
      "1  12/30/24  4.43  4.42  4.37  4.33  4.25  4.17  4.24  4.29  4.37  4.46   \n",
      "2  12/27/24  4.44  4.43  4.31  4.35  4.29  4.20  4.31  4.36  4.45  4.53   \n",
      "3  12/26/24  4.45  4.45  4.35  4.37  4.31  4.23  4.30  4.35  4.42  4.49   \n",
      "4  12/24/24  4.44  4.44  4.40  4.38  4.30  4.24  4.29  4.36  4.43  4.52   \n",
      "\n",
      "   10 Yr  20 Yr  30 Yr  \n",
      "0   4.58   4.86   4.78  \n",
      "1   4.55   4.84   4.77  \n",
      "2   4.62   4.89   4.82  \n",
      "3   4.58   4.83   4.76  \n",
      "4   4.59   4.84   4.76  \n"
     ]
    }
   ],
   "source": [
    "# Display the first 3 rows\n",
    "print(\"SPX500 Data:\")\n",
    "print(dt_spx500.head(5))\n",
    "\n",
    "print(\"\\nYield Curve Data:\")\n",
    "print(dt_yieldcrv.head(5))"
   ]
  },
  {
   "cell_type": "code",
   "execution_count": 6,
   "id": "33b5972f-48ed-4544-abe0-fef8ed0f596d",
   "metadata": {},
   "outputs": [],
   "source": [
    "# merging datasets\n",
    "ds_merged = data_merging(dt_spx500, dt_yieldcrv)"
   ]
  },
  {
   "cell_type": "code",
   "execution_count": 7,
   "id": "6af56a31-2952-4c7b-8068-9b1735d76434",
   "metadata": {},
   "outputs": [
    {
     "name": "stdout",
     "output_type": "stream",
     "text": [
      "\n",
      "Merged dataset:\n",
      "        Data  Otwarcie  Najwyzszy  Najnizszy  Zamkniecie      Wolumen  \\\n",
      "0 1990-01-02    353.40     359.69     351.98      359.69   90038889.0   \n",
      "1 1990-01-03    359.69     360.59     357.89      358.76  106850000.0   \n",
      "2 1990-01-04    358.76     358.76     352.89      355.67   98333333.0   \n",
      "3 1990-01-05    355.67     355.67     351.35      352.20   88072222.0   \n",
      "4 1990-01-08    352.20     354.24     350.54      353.79   77838889.0   \n",
      "5 1990-01-09    353.83     354.17     349.61      349.62   86227778.0   \n",
      "6 1990-01-10    349.62     349.62     344.32      347.31   97772222.0   \n",
      "7 1990-01-11    347.31     350.14     347.31      348.53   85772222.0   \n",
      "8 1990-01-12    348.53     348.53     339.49      339.93  102155556.0   \n",
      "9 1990-01-16    337.00     340.75     333.37      340.75  103372222.0   \n",
      "\n",
      "        Date  1 Mo  2 Mo  3 Mo  4 Mo  6 Mo  1 Yr  2 Yr  3 Yr  5 Yr  7 Yr  \\\n",
      "0 1990-01-02   NaN   NaN  7.83   NaN  7.89  7.81  7.87  7.90  7.87  7.98   \n",
      "1 1990-01-03   NaN   NaN  7.89   NaN  7.94  7.85  7.94  7.96  7.92  8.04   \n",
      "2 1990-01-04   NaN   NaN  7.84   NaN  7.90  7.82  7.92  7.93  7.91  8.02   \n",
      "3 1990-01-05   NaN   NaN  7.79   NaN  7.85  7.79  7.90  7.94  7.92  8.03   \n",
      "4 1990-01-08   NaN   NaN  7.79   NaN  7.88  7.81  7.90  7.95  7.92  8.05   \n",
      "5 1990-01-09   NaN   NaN  7.80   NaN  7.82  7.78  7.91  7.94  7.92  8.05   \n",
      "6 1990-01-10   NaN   NaN  7.75   NaN  7.78  7.77  7.91  7.95  7.92  8.00   \n",
      "7 1990-01-11   NaN   NaN  7.80   NaN  7.80  7.77  7.91  7.95  7.94  8.01   \n",
      "8 1990-01-12   NaN   NaN  7.74   NaN  7.81  7.76  7.93  7.98  7.99  8.07   \n",
      "9 1990-01-16   NaN   NaN  7.89   NaN  7.99  7.92  8.10  8.13  8.11  8.18   \n",
      "\n",
      "   10 Yr  20 Yr  30 Yr  \n",
      "0   7.94    NaN   8.00  \n",
      "1   7.99    NaN   8.04  \n",
      "2   7.98    NaN   8.04  \n",
      "3   7.99    NaN   8.06  \n",
      "4   8.02    NaN   8.09  \n",
      "5   8.02    NaN   8.10  \n",
      "6   8.03    NaN   8.11  \n",
      "7   8.04    NaN   8.11  \n",
      "8   8.10    NaN   8.17  \n",
      "9   8.20    NaN   8.25  \n"
     ]
    }
   ],
   "source": [
    "print(\"\\nMerged dataset:\")\n",
    "print(ds_merged.head(10))"
   ]
  },
  {
   "cell_type": "code",
   "execution_count": 8,
   "id": "38b46e2a-eaa1-4bc3-a5c0-ee517f782c29",
   "metadata": {},
   "outputs": [],
   "source": [
    "# Saving merged data to output file\n",
    "ds_merged.to_csv('merged_data.csv', index=False)"
   ]
  },
  {
   "cell_type": "code",
   "execution_count": 9,
   "id": "46e4e01f-70c1-4974-9cd2-8cc7159da6de",
   "metadata": {},
   "outputs": [],
   "source": [
    "# EXPANSION OF THE DATASET"
   ]
  },
  {
   "cell_type": "code",
   "execution_count": 10,
   "id": "ff7d5c25-6cd8-44a4-bab4-b0d3eddcab99",
   "metadata": {},
   "outputs": [],
   "source": [
    "# Calculating daily price change in %"
   ]
  },
  {
   "cell_type": "code",
   "execution_count": 11,
   "id": "35d2bbef-f600-413f-a420-10f6e676f2b6",
   "metadata": {},
   "outputs": [],
   "source": [
    "#loading merged file\n",
    "dataset_extended = pd.read_csv('merged_data.csv')"
   ]
  },
  {
   "cell_type": "code",
   "execution_count": 12,
   "id": "d4d42356-2f15-4f93-b88a-68fde26e9643",
   "metadata": {},
   "outputs": [],
   "source": [
    "dataset_extended['Daily index price Change (%)'] = dataset_extended['Zamkniecie'].pct_change() * 100"
   ]
  },
  {
   "cell_type": "code",
   "execution_count": 13,
   "id": "dceb007b-c54a-43f5-ae32-db416135a91c",
   "metadata": {},
   "outputs": [
    {
     "name": "stdout",
     "output_type": "stream",
     "text": [
      "         Data  Otwarcie  Najwyzszy  Najnizszy  Zamkniecie      Wolumen  \\\n",
      "0  1990-01-02    353.40     359.69     351.98      359.69   90038889.0   \n",
      "1  1990-01-03    359.69     360.59     357.89      358.76  106850000.0   \n",
      "2  1990-01-04    358.76     358.76     352.89      355.67   98333333.0   \n",
      "3  1990-01-05    355.67     355.67     351.35      352.20   88072222.0   \n",
      "4  1990-01-08    352.20     354.24     350.54      353.79   77838889.0   \n",
      "5  1990-01-09    353.83     354.17     349.61      349.62   86227778.0   \n",
      "6  1990-01-10    349.62     349.62     344.32      347.31   97772222.0   \n",
      "7  1990-01-11    347.31     350.14     347.31      348.53   85772222.0   \n",
      "8  1990-01-12    348.53     348.53     339.49      339.93  102155556.0   \n",
      "9  1990-01-16    337.00     340.75     333.37      340.75  103372222.0   \n",
      "\n",
      "         Date  1 Mo  2 Mo  3 Mo  ...  6 Mo  1 Yr  2 Yr  3 Yr  5 Yr  7 Yr  \\\n",
      "0  1990-01-02   NaN   NaN  7.83  ...  7.89  7.81  7.87  7.90  7.87  7.98   \n",
      "1  1990-01-03   NaN   NaN  7.89  ...  7.94  7.85  7.94  7.96  7.92  8.04   \n",
      "2  1990-01-04   NaN   NaN  7.84  ...  7.90  7.82  7.92  7.93  7.91  8.02   \n",
      "3  1990-01-05   NaN   NaN  7.79  ...  7.85  7.79  7.90  7.94  7.92  8.03   \n",
      "4  1990-01-08   NaN   NaN  7.79  ...  7.88  7.81  7.90  7.95  7.92  8.05   \n",
      "5  1990-01-09   NaN   NaN  7.80  ...  7.82  7.78  7.91  7.94  7.92  8.05   \n",
      "6  1990-01-10   NaN   NaN  7.75  ...  7.78  7.77  7.91  7.95  7.92  8.00   \n",
      "7  1990-01-11   NaN   NaN  7.80  ...  7.80  7.77  7.91  7.95  7.94  8.01   \n",
      "8  1990-01-12   NaN   NaN  7.74  ...  7.81  7.76  7.93  7.98  7.99  8.07   \n",
      "9  1990-01-16   NaN   NaN  7.89  ...  7.99  7.92  8.10  8.13  8.11  8.18   \n",
      "\n",
      "   10 Yr  20 Yr  30 Yr  Daily index price Change (%)  \n",
      "0   7.94    NaN   8.00                           NaN  \n",
      "1   7.99    NaN   8.04                     -0.258556  \n",
      "2   7.98    NaN   8.04                     -0.861300  \n",
      "3   7.99    NaN   8.06                     -0.975623  \n",
      "4   8.02    NaN   8.09                      0.451448  \n",
      "5   8.02    NaN   8.10                     -1.178665  \n",
      "6   8.03    NaN   8.11                     -0.660717  \n",
      "7   8.04    NaN   8.11                      0.351271  \n",
      "8   8.10    NaN   8.17                     -2.467506  \n",
      "9   8.20    NaN   8.25                      0.241226  \n",
      "\n",
      "[10 rows x 21 columns]\n"
     ]
    }
   ],
   "source": [
    "print(dataset_extended.head(10))"
   ]
  },
  {
   "cell_type": "code",
   "execution_count": 14,
   "id": "3a4ee18a-00b0-45bf-9aa7-efd25fb3452f",
   "metadata": {},
   "outputs": [],
   "source": [
    "# Calculating basic stock indicators"
   ]
  },
  {
   "cell_type": "code",
   "execution_count": 15,
   "id": "9717efd3-3ce0-4dad-9e9d-05b1c4f5944a",
   "metadata": {},
   "outputs": [],
   "source": [
    "# Stochastic - STS"
   ]
  },
  {
   "cell_type": "code",
   "execution_count": 16,
   "id": "a0f7e29b-3e5b-409a-be89-b922ca1ec575",
   "metadata": {},
   "outputs": [
    {
     "name": "stdout",
     "output_type": "stream",
     "text": [
      "           Data  Otwarcie  Najwyzszy  Najnizszy  Zamkniecie       Wolumen  \\\n",
      "0    1990-01-02    353.40     359.69     351.98      359.69  9.003889e+07   \n",
      "1    1990-01-03    359.69     360.59     357.89      358.76  1.068500e+08   \n",
      "2    1990-01-04    358.76     358.76     352.89      355.67  9.833333e+07   \n",
      "3    1990-01-05    355.67     355.67     351.35      352.20  8.807222e+07   \n",
      "4    1990-01-08    352.20     354.24     350.54      353.79  7.783889e+07   \n",
      "...         ...       ...        ...        ...         ...           ...   \n",
      "8740 2024-12-24   5984.63    6040.10    5981.44     6040.04  1.133217e+09   \n",
      "8741 2024-12-26   6024.97    6049.75    6007.37     6037.59  1.506251e+09   \n",
      "8742 2024-12-27   6006.17    6006.17    5932.95     5970.84  1.817798e+09   \n",
      "8743 2024-12-30   5920.67    5940.79    5869.16     5906.94  1.943393e+09   \n",
      "8744 2024-12-31   5919.74    5929.74    5868.86     5881.63  1.796607e+09   \n",
      "\n",
      "            Date  1 Mo  2 Mo  3 Mo  ...  1 Yr  2 Yr  3 Yr  5 Yr  7 Yr  10 Yr  \\\n",
      "0     1990-01-02   NaN   NaN  7.83  ...  7.81  7.87  7.90  7.87  7.98   7.94   \n",
      "1     1990-01-03   NaN   NaN  7.89  ...  7.85  7.94  7.96  7.92  8.04   7.99   \n",
      "2     1990-01-04   NaN   NaN  7.84  ...  7.82  7.92  7.93  7.91  8.02   7.98   \n",
      "3     1990-01-05   NaN   NaN  7.79  ...  7.79  7.90  7.94  7.92  8.03   7.99   \n",
      "4     1990-01-08   NaN   NaN  7.79  ...  7.81  7.90  7.95  7.92  8.05   8.02   \n",
      "...          ...   ...   ...   ...  ...   ...   ...   ...   ...   ...    ...   \n",
      "8740  2024-12-24  4.44  4.44  4.40  ...  4.24  4.29  4.36  4.43  4.52   4.59   \n",
      "8741  2024-12-26  4.45  4.45  4.35  ...  4.23  4.30  4.35  4.42  4.49   4.58   \n",
      "8742  2024-12-27  4.44  4.43  4.31  ...  4.20  4.31  4.36  4.45  4.53   4.62   \n",
      "8743  2024-12-30  4.43  4.42  4.37  ...  4.17  4.24  4.29  4.37  4.46   4.55   \n",
      "8744  2024-12-31  4.40  4.39  4.37  ...  4.16  4.25  4.27  4.38  4.48   4.58   \n",
      "\n",
      "      20 Yr  30 Yr  Daily index price Change (%)        STS  \n",
      "0       NaN   8.00                           NaN        NaN  \n",
      "1       NaN   8.04                     -0.258556        NaN  \n",
      "2       NaN   8.04                     -0.861300        NaN  \n",
      "3       NaN   8.06                     -0.975623        NaN  \n",
      "4       NaN   8.09                      0.451448        NaN  \n",
      "...     ...    ...                           ...        ...  \n",
      "8740   4.84   4.76                      1.104272  77.494511  \n",
      "8741   4.83   4.76                     -0.040563  76.396792  \n",
      "8742   4.89   4.82                     -1.105574  47.791442  \n",
      "8743   4.84   4.77                     -1.070201  18.359357  \n",
      "8744   4.86   4.78                     -0.428479   6.701672  \n",
      "\n",
      "[8745 rows x 22 columns]\n"
     ]
    }
   ],
   "source": [
    "df = dataset_extended\n",
    "df[\"Data\"] = pd.to_datetime(df[\"Data\"])\n",
    "\n",
    "# Obliczenie oscylatora stochastycznego (%K) tylko na podstawie cen zamknięcia\n",
    "okres = 14  # Możesz zmienić okres według potrzeb\n",
    "df[\"Lowest_Close\"] = df[\"Zamkniecie\"].rolling(window=okres).min()\n",
    "df[\"Highest_Close\"] = df[\"Zamkniecie\"].rolling(window=okres).max()\n",
    "df[\"STS\"] = 100 * (df[\"Zamkniecie\"] - df[\"Lowest_Close\"]) / (df[\"Highest_Close\"] - df[\"Lowest_Close\"])\n",
    "\n",
    "# Usunięcie pomocniczych kolumn\n",
    "df.drop(columns=[\"Lowest_Close\", \"Highest_Close\"], inplace=True)\n",
    "\n",
    "# Wyświetlenie wyników\n",
    "print(df)"
   ]
  },
  {
   "cell_type": "code",
   "execution_count": 17,
   "id": "19f69fd8-aee7-4475-a351-cb8857c489dd",
   "metadata": {},
   "outputs": [],
   "source": [
    "# Moving Average Convergence Divergence - MACD"
   ]
  },
  {
   "cell_type": "code",
   "execution_count": 18,
   "id": "eb224c22-f077-454d-8094-b0bca533745b",
   "metadata": {},
   "outputs": [
    {
     "name": "stdout",
     "output_type": "stream",
     "text": [
      "           Data  Otwarcie  Najwyzszy  Najnizszy  Zamkniecie       Wolumen  \\\n",
      "0    1990-01-02    353.40     359.69     351.98      359.69  9.003889e+07   \n",
      "1    1990-01-03    359.69     360.59     357.89      358.76  1.068500e+08   \n",
      "2    1990-01-04    358.76     358.76     352.89      355.67  9.833333e+07   \n",
      "3    1990-01-05    355.67     355.67     351.35      352.20  8.807222e+07   \n",
      "4    1990-01-08    352.20     354.24     350.54      353.79  7.783889e+07   \n",
      "...         ...       ...        ...        ...         ...           ...   \n",
      "8740 2024-12-24   5984.63    6040.10    5981.44     6040.04  1.133217e+09   \n",
      "8741 2024-12-26   6024.97    6049.75    6007.37     6037.59  1.506251e+09   \n",
      "8742 2024-12-27   6006.17    6006.17    5932.95     5970.84  1.817798e+09   \n",
      "8743 2024-12-30   5920.67    5940.79    5869.16     5906.94  1.943393e+09   \n",
      "8744 2024-12-31   5919.74    5929.74    5868.86     5881.63  1.796607e+09   \n",
      "\n",
      "            Date  1 Mo  2 Mo  3 Mo  ...  3 Yr  5 Yr  7 Yr  10 Yr  20 Yr  \\\n",
      "0     1990-01-02   NaN   NaN  7.83  ...  7.90  7.87  7.98   7.94    NaN   \n",
      "1     1990-01-03   NaN   NaN  7.89  ...  7.96  7.92  8.04   7.99    NaN   \n",
      "2     1990-01-04   NaN   NaN  7.84  ...  7.93  7.91  8.02   7.98    NaN   \n",
      "3     1990-01-05   NaN   NaN  7.79  ...  7.94  7.92  8.03   7.99    NaN   \n",
      "4     1990-01-08   NaN   NaN  7.79  ...  7.95  7.92  8.05   8.02    NaN   \n",
      "...          ...   ...   ...   ...  ...   ...   ...   ...    ...    ...   \n",
      "8740  2024-12-24  4.44  4.44  4.40  ...  4.36  4.43  4.52   4.59   4.84   \n",
      "8741  2024-12-26  4.45  4.45  4.35  ...  4.35  4.42  4.49   4.58   4.83   \n",
      "8742  2024-12-27  4.44  4.43  4.31  ...  4.36  4.45  4.53   4.62   4.89   \n",
      "8743  2024-12-30  4.43  4.42  4.37  ...  4.29  4.37  4.46   4.55   4.84   \n",
      "8744  2024-12-31  4.40  4.39  4.37  ...  4.27  4.38  4.48   4.58   4.86   \n",
      "\n",
      "      30 Yr  Daily index price Change (%)        STS       MACD  MACD_Signal  \n",
      "0      8.00                           NaN        NaN   0.000000     0.000000  \n",
      "1      8.04                     -0.258556        NaN  -0.074188    -0.014838  \n",
      "2      8.04                     -0.861300        NaN  -0.377963    -0.087463  \n",
      "3      8.06                     -0.975623        NaN  -0.888465    -0.247663  \n",
      "4      8.09                      0.451448        NaN  -1.151468    -0.428424  \n",
      "...     ...                           ...        ...        ...          ...  \n",
      "8740   4.76                      1.104272  77.494511  10.956019    26.175262  \n",
      "8741   4.76                     -0.040563  76.396792  13.666310    23.673472  \n",
      "8742   4.82                     -1.105574  47.791442  10.309230    21.000624  \n",
      "8743   4.77                     -1.070201  18.359357   2.464119    17.293323  \n",
      "8744   4.78                     -0.428479   6.701672  -5.729448    12.688768  \n",
      "\n",
      "[8745 rows x 24 columns]\n"
     ]
    }
   ],
   "source": [
    "krótka_srednia = 12  # Szybka EMA\n",
    "długa_srednia = 26   # Wolna EMA\n",
    "sygnal_srednia = 9   # Linia sygnałowa\n",
    "\n",
    "df[\"EMA_12\"] = df[\"Zamkniecie\"].ewm(span=krótka_srednia, adjust=False).mean()\n",
    "df[\"EMA_26\"] = df[\"Zamkniecie\"].ewm(span=długa_srednia, adjust=False).mean()\n",
    "df[\"MACD\"] = df[\"EMA_12\"] - df[\"EMA_26\"]\n",
    "df[\"MACD_Signal\"] = df[\"MACD\"].ewm(span=sygnal_srednia, adjust=False).mean()\n",
    "\n",
    "# Usunięcie pomocniczych kolumn\n",
    "df.drop(columns=[\"EMA_12\", \"EMA_26\"], inplace=True)\n",
    "\n",
    "# Wyświetlenie wyników\n",
    "print(df)"
   ]
  },
  {
   "cell_type": "code",
   "execution_count": 19,
   "id": "401658ce-3b2c-4bb9-b901-57cb380fcc97",
   "metadata": {},
   "outputs": [],
   "source": [
    "# Relative Strength Index - RSI"
   ]
  },
  {
   "cell_type": "code",
   "execution_count": 20,
   "id": "af2b9438-fe65-47bd-914f-94dd584829f8",
   "metadata": {},
   "outputs": [
    {
     "name": "stdout",
     "output_type": "stream",
     "text": [
      "           Data  Otwarcie  Najwyzszy  Najnizszy  Zamkniecie       Wolumen  \\\n",
      "0    1990-01-02    353.40     359.69     351.98      359.69  9.003889e+07   \n",
      "1    1990-01-03    359.69     360.59     357.89      358.76  1.068500e+08   \n",
      "2    1990-01-04    358.76     358.76     352.89      355.67  9.833333e+07   \n",
      "3    1990-01-05    355.67     355.67     351.35      352.20  8.807222e+07   \n",
      "4    1990-01-08    352.20     354.24     350.54      353.79  7.783889e+07   \n",
      "...         ...       ...        ...        ...         ...           ...   \n",
      "8740 2024-12-24   5984.63    6040.10    5981.44     6040.04  1.133217e+09   \n",
      "8741 2024-12-26   6024.97    6049.75    6007.37     6037.59  1.506251e+09   \n",
      "8742 2024-12-27   6006.17    6006.17    5932.95     5970.84  1.817798e+09   \n",
      "8743 2024-12-30   5920.67    5940.79    5869.16     5906.94  1.943393e+09   \n",
      "8744 2024-12-31   5919.74    5929.74    5868.86     5881.63  1.796607e+09   \n",
      "\n",
      "            Date  1 Mo  2 Mo  3 Mo  ...  5 Yr  7 Yr  10 Yr  20 Yr  30 Yr  \\\n",
      "0     1990-01-02   NaN   NaN  7.83  ...  7.87  7.98   7.94    NaN   8.00   \n",
      "1     1990-01-03   NaN   NaN  7.89  ...  7.92  8.04   7.99    NaN   8.04   \n",
      "2     1990-01-04   NaN   NaN  7.84  ...  7.91  8.02   7.98    NaN   8.04   \n",
      "3     1990-01-05   NaN   NaN  7.79  ...  7.92  8.03   7.99    NaN   8.06   \n",
      "4     1990-01-08   NaN   NaN  7.79  ...  7.92  8.05   8.02    NaN   8.09   \n",
      "...          ...   ...   ...   ...  ...   ...   ...    ...    ...    ...   \n",
      "8740  2024-12-24  4.44  4.44  4.40  ...  4.43  4.52   4.59   4.84   4.76   \n",
      "8741  2024-12-26  4.45  4.45  4.35  ...  4.42  4.49   4.58   4.83   4.76   \n",
      "8742  2024-12-27  4.44  4.43  4.31  ...  4.45  4.53   4.62   4.89   4.82   \n",
      "8743  2024-12-30  4.43  4.42  4.37  ...  4.37  4.46   4.55   4.84   4.77   \n",
      "8744  2024-12-31  4.40  4.39  4.37  ...  4.38  4.48   4.58   4.86   4.78   \n",
      "\n",
      "      Daily index price Change (%)        STS       MACD  MACD_Signal  \\\n",
      "0                              NaN        NaN   0.000000     0.000000   \n",
      "1                        -0.258556        NaN  -0.074188    -0.014838   \n",
      "2                        -0.861300        NaN  -0.377963    -0.087463   \n",
      "3                        -0.975623        NaN  -0.888465    -0.247663   \n",
      "4                         0.451448        NaN  -1.151468    -0.428424   \n",
      "...                            ...        ...        ...          ...   \n",
      "8740                      1.104272  77.494511  10.956019    26.175262   \n",
      "8741                     -0.040563  76.396792  13.666310    23.673472   \n",
      "8742                     -1.105574  47.791442  10.309230    21.000624   \n",
      "8743                     -1.070201  18.359357   2.464119    17.293323   \n",
      "8744                     -0.428479   6.701672  -5.729448    12.688768   \n",
      "\n",
      "            RSI  \n",
      "0           NaN  \n",
      "1           NaN  \n",
      "2           NaN  \n",
      "3           NaN  \n",
      "4           NaN  \n",
      "...         ...  \n",
      "8740  45.905541  \n",
      "8741  46.639799  \n",
      "8742  40.208890  \n",
      "8743  38.535757  \n",
      "8744  38.094572  \n",
      "\n",
      "[8745 rows x 25 columns]\n"
     ]
    }
   ],
   "source": [
    "okres = 14  # Standardowy okres dla RSI\n",
    "df[\"Zmiana\"] = df[\"Zamkniecie\"].diff()\n",
    "df[\"Wzrost\"] = df[\"Zmiana\"].apply(lambda x: x if x > 0 else 0)\n",
    "df[\"Spadek\"] = df[\"Zmiana\"].apply(lambda x: -x if x < 0 else 0)\n",
    "\n",
    "df[\"Średni_Wzrost\"] = df[\"Wzrost\"].rolling(window=okres).mean()\n",
    "df[\"Średni_Spadek\"] = df[\"Spadek\"].rolling(window=okres).mean()\n",
    "\n",
    "df[\"RS\"] = df[\"Średni_Wzrost\"] / df[\"Średni_Spadek\"]\n",
    "df[\"RSI\"] = 100 - (100 / (1 + df[\"RS\"]))\n",
    "\n",
    "# Usunięcie pomocniczych kolumn\n",
    "df.drop(columns=[\"Zmiana\", \"Wzrost\", \"Spadek\", \"Średni_Wzrost\", \"Średni_Spadek\", \"RS\"], inplace=True)\n",
    "\n",
    "# Wyświetlenie wyników\n",
    "print(df)"
   ]
  },
  {
   "cell_type": "code",
   "execution_count": 21,
   "id": "ddf5a9b8-d5a1-4c99-a3c9-0bd7194e0d02",
   "metadata": {},
   "outputs": [],
   "source": [
    "# etykietowanie danych"
   ]
  },
  {
   "cell_type": "code",
   "execution_count": 22,
   "id": "8e25432a-b118-490f-aa03-d491a7ba6335",
   "metadata": {},
   "outputs": [
    {
     "name": "stdout",
     "output_type": "stream",
     "text": [
      "           Data  Otwarcie  Najwyzszy  Najnizszy  Zamkniecie       Wolumen  \\\n",
      "0    1990-01-02    353.40     359.69     351.98      359.69  9.003889e+07   \n",
      "1    1990-01-03    359.69     360.59     357.89      358.76  1.068500e+08   \n",
      "2    1990-01-04    358.76     358.76     352.89      355.67  9.833333e+07   \n",
      "3    1990-01-05    355.67     355.67     351.35      352.20  8.807222e+07   \n",
      "4    1990-01-08    352.20     354.24     350.54      353.79  7.783889e+07   \n",
      "...         ...       ...        ...        ...         ...           ...   \n",
      "8740 2024-12-24   5984.63    6040.10    5981.44     6040.04  1.133217e+09   \n",
      "8741 2024-12-26   6024.97    6049.75    6007.37     6037.59  1.506251e+09   \n",
      "8742 2024-12-27   6006.17    6006.17    5932.95     5970.84  1.817798e+09   \n",
      "8743 2024-12-30   5920.67    5940.79    5869.16     5906.94  1.943393e+09   \n",
      "8744 2024-12-31   5919.74    5929.74    5868.86     5881.63  1.796607e+09   \n",
      "\n",
      "            Date  1 Mo  2 Mo  3 Mo  ...  7 Yr  10 Yr  20 Yr  30 Yr  \\\n",
      "0     1990-01-02   NaN   NaN  7.83  ...  7.98   7.94    NaN   8.00   \n",
      "1     1990-01-03   NaN   NaN  7.89  ...  8.04   7.99    NaN   8.04   \n",
      "2     1990-01-04   NaN   NaN  7.84  ...  8.02   7.98    NaN   8.04   \n",
      "3     1990-01-05   NaN   NaN  7.79  ...  8.03   7.99    NaN   8.06   \n",
      "4     1990-01-08   NaN   NaN  7.79  ...  8.05   8.02    NaN   8.09   \n",
      "...          ...   ...   ...   ...  ...   ...    ...    ...    ...   \n",
      "8740  2024-12-24  4.44  4.44  4.40  ...  4.52   4.59   4.84   4.76   \n",
      "8741  2024-12-26  4.45  4.45  4.35  ...  4.49   4.58   4.83   4.76   \n",
      "8742  2024-12-27  4.44  4.43  4.31  ...  4.53   4.62   4.89   4.82   \n",
      "8743  2024-12-30  4.43  4.42  4.37  ...  4.46   4.55   4.84   4.77   \n",
      "8744  2024-12-31  4.40  4.39  4.37  ...  4.48   4.58   4.86   4.78   \n",
      "\n",
      "      Daily index price Change (%)        STS       MACD  MACD_Signal  \\\n",
      "0                              NaN        NaN   0.000000     0.000000   \n",
      "1                        -0.258556        NaN  -0.074188    -0.014838   \n",
      "2                        -0.861300        NaN  -0.377963    -0.087463   \n",
      "3                        -0.975623        NaN  -0.888465    -0.247663   \n",
      "4                         0.451448        NaN  -1.151468    -0.428424   \n",
      "...                            ...        ...        ...          ...   \n",
      "8740                      1.104272  77.494511  10.956019    26.175262   \n",
      "8741                     -0.040563  76.396792  13.666310    23.673472   \n",
      "8742                     -1.105574  47.791442  10.309230    21.000624   \n",
      "8743                     -1.070201  18.359357   2.464119    17.293323   \n",
      "8744                     -0.428479   6.701672  -5.729448    12.688768   \n",
      "\n",
      "            RSI  Label  \n",
      "0           NaN      0  \n",
      "1           NaN      0  \n",
      "2           NaN      0  \n",
      "3           NaN      0  \n",
      "4           NaN      1  \n",
      "...         ...    ...  \n",
      "8740  45.905541      1  \n",
      "8741  46.639799      0  \n",
      "8742  40.208890      0  \n",
      "8743  38.535757      0  \n",
      "8744  38.094572      0  \n",
      "\n",
      "[8745 rows x 26 columns]\n"
     ]
    }
   ],
   "source": [
    "# Determine if price increased or decreased\n",
    "df[\"Label\"] = (df[\"Zamkniecie\"].diff() > 0).astype(int)\n",
    "\n",
    "# Display results\n",
    "print(df)"
   ]
  },
  {
   "cell_type": "code",
   "execution_count": 23,
   "id": "58c2de9b-27cc-43ab-9412-b96b1634c1f4",
   "metadata": {},
   "outputs": [],
   "source": [
    "# Saving EXTENDED data to output file\n",
    "df.to_csv('final_dataset.csv', index=False)"
   ]
  }
 ],
 "metadata": {
  "kernelspec": {
   "display_name": "Python 3 (ipykernel)",
   "language": "python",
   "name": "python3"
  },
  "language_info": {
   "codemirror_mode": {
    "name": "ipython",
    "version": 3
   },
   "file_extension": ".py",
   "mimetype": "text/x-python",
   "name": "python",
   "nbconvert_exporter": "python",
   "pygments_lexer": "ipython3",
   "version": "3.12.3"
  }
 },
 "nbformat": 4,
 "nbformat_minor": 5
}
