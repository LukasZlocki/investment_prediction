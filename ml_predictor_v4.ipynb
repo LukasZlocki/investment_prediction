{
 "cells": [
  {
   "cell_type": "code",
   "execution_count": 9,
   "id": "bbb2a630-9e07-4c43-9e98-409983be1d72",
   "metadata": {},
   "outputs": [
    {
     "name": "stdout",
     "output_type": "stream",
     "text": [
      "Classification Report:\n",
      "\n",
      "              precision    recall  f1-score   support\n",
      "\n",
      "          -1       0.00      0.00      0.00       251\n",
      "           0       0.68      1.00      0.81      1184\n",
      "           1       0.00      0.00      0.00       314\n",
      "\n",
      "    accuracy                           0.68      1749\n",
      "   macro avg       0.23      0.33      0.27      1749\n",
      "weighted avg       0.46      0.68      0.55      1749\n",
      "\n",
      "\n",
      "Accuracy: 0.6770\n",
      "\n",
      "Predictions (Actual vs Predicted):\n",
      "      Zamkniecie       Wolumen  MACD_Signal  Actual  Predicted Signal\n",
      "6996     2673.61  1.357494e+09    22.244888       1          0   Hold\n",
      "6997     2695.81  1.870694e+09    21.909070       1          0   Hold\n",
      "6998     2713.06  1.965922e+09    21.902483       0          0   Hold\n",
      "6999     2723.99  2.052922e+09    22.227058       0          0   Hold\n",
      "7000     2743.15  1.798122e+09    22.997212       0          0   Hold\n"
     ]
    },
    {
     "name": "stderr",
     "output_type": "stream",
     "text": [
      "C:\\Users\\lzloc\\AppData\\Local\\Programs\\Python\\Python312\\Lib\\site-packages\\sklearn\\metrics\\_classification.py:1531: UndefinedMetricWarning: Precision is ill-defined and being set to 0.0 in labels with no predicted samples. Use `zero_division` parameter to control this behavior.\n",
      "  _warn_prf(average, modifier, f\"{metric.capitalize()} is\", len(result))\n",
      "C:\\Users\\lzloc\\AppData\\Local\\Programs\\Python\\Python312\\Lib\\site-packages\\sklearn\\metrics\\_classification.py:1531: UndefinedMetricWarning: Precision is ill-defined and being set to 0.0 in labels with no predicted samples. Use `zero_division` parameter to control this behavior.\n",
      "  _warn_prf(average, modifier, f\"{metric.capitalize()} is\", len(result))\n",
      "C:\\Users\\lzloc\\AppData\\Local\\Programs\\Python\\Python312\\Lib\\site-packages\\sklearn\\metrics\\_classification.py:1531: UndefinedMetricWarning: Precision is ill-defined and being set to 0.0 in labels with no predicted samples. Use `zero_division` parameter to control this behavior.\n",
      "  _warn_prf(average, modifier, f\"{metric.capitalize()} is\", len(result))\n"
     ]
    }
   ],
   "source": [
    "# Importowanie wymaganych bibliotek\n",
    "import pandas as pd\n",
    "import numpy as np\n",
    "from sklearn.model_selection import train_test_split\n",
    "from sklearn.preprocessing import StandardScaler\n",
    "from sklearn.ensemble import RandomForestClassifier\n",
    "from sklearn.metrics import classification_report\n",
    "\n",
    "# Załadowanie danych (upewnij się, że masz swój dataframe `df`)\n",
    "df = pd.read_csv('final_dataset.csv')  # Załaduj swoje dane, jeśli jeszcze tego nie zrobiłeś\n",
    "\n",
    "# === 2. Wybór cech i etykiety ===\n",
    "features = ['Zamkniecie', 'Wolumen', 'MACD_Signal']\n",
    "\n",
    "# Dodanie kolumny 'Future_Close' (cena zamknięcia w przyszłości)\n",
    "df['Future_Close'] = df['Zamkniecie'].shift(-5)  # Cena zamknięcia za 5 dni (możesz zmienić wartość -5 na inny próg)\n",
    "\n",
    "# Określenie etykiety (target)\n",
    "# '1' dla Buy, '-1' dla Sell, '0' dla Hold\n",
    "df['Label'] = np.where(df['Future_Close'] > df['Zamkniecie'] * 1.02, 1,  # Buy: cena wzrośnie o >2%\n",
    "                       np.where(df['Future_Close'] < df['Zamkniecie'] * 0.98, -1, 0))  # Sell: cena spadnie o >2%\n",
    "\n",
    "# === 3. Podział danych na cechy i etykietę ===\n",
    "X = df[features]\n",
    "y = df['Label']\n",
    "\n",
    "# === 4. Podział na zbiór treningowy i testowy ===\n",
    "X_train, X_test, y_train, y_test = train_test_split(X, y, test_size=0.2, shuffle=False)\n",
    "\n",
    "# === 5. Normalizacja danych ===\n",
    "scaler = StandardScaler()\n",
    "X_train_scaled = scaler.fit_transform(X_train)\n",
    "X_test_scaled = scaler.transform(X_test)\n",
    "\n",
    "# === 6. Budowa modelu klasyfikacyjnego ===\n",
    "model = RandomForestClassifier(n_estimators=100, random_state=42)\n",
    "model.fit(X_train_scaled, y_train)\n",
    "\n",
    "# === 7. Predykcja ===\n",
    "y_pred = model.predict(X_test_scaled)\n",
    "\n",
    "# === 8. Ocena modelu ===\n",
    "print(\"Classification Report:\\n\")\n",
    "print(classification_report(y_test, y_pred))\n",
    "\n",
    "# === 9. Dokładność modelu ===\n",
    "accuracy = model.score(X_test_scaled, y_test)\n",
    "print(f\"\\nAccuracy: {accuracy:.4f}\")\n",
    "\n",
    "# === 10. Podsumowanie predykcji ===\n",
    "df_test = X_test.copy()\n",
    "df_test['Actual'] = y_test\n",
    "df_test['Predicted'] = y_pred\n",
    "df_test['Signal'] = np.where(df_test['Predicted'] == 1, 'Buy', \n",
    "                             np.where(df_test['Predicted'] == -1, 'Sell', 'Hold'))\n",
    "\n",
    "# Wyświetlenie pierwszych kilku wierszy wyników\n",
    "print(\"\\nPredictions (Actual vs Predicted):\")\n",
    "print(df_test.head())\n",
    "\n",
    "# Saving dataset with recommendation - v4\n",
    "df_test.to_csv('dataset_recommendation_v4.csv', index=False)"
   ]
  },
  {
   "cell_type": "code",
   "execution_count": null,
   "id": "aa9d7188-7d10-454f-b98a-8eb3f536e648",
   "metadata": {},
   "outputs": [],
   "source": []
  }
 ],
 "metadata": {
  "kernelspec": {
   "display_name": "Python 3 (ipykernel)",
   "language": "python",
   "name": "python3"
  },
  "language_info": {
   "codemirror_mode": {
    "name": "ipython",
    "version": 3
   },
   "file_extension": ".py",
   "mimetype": "text/x-python",
   "name": "python",
   "nbconvert_exporter": "python",
   "pygments_lexer": "ipython3",
   "version": "3.12.3"
  }
 },
 "nbformat": 4,
 "nbformat_minor": 5
}
